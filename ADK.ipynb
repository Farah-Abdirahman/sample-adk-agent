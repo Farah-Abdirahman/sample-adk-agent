{
  "nbformat": 4,
  "nbformat_minor": 0,
  "metadata": {
    "colab": {
      "provenance": [],
      "include_colab_link": true
    },
    "kernelspec": {
      "name": "python3",
      "display_name": "Python 3"
    },
    "language_info": {
      "name": "python"
    }
  },
  "cells": [
    {
      "cell_type": "markdown",
      "metadata": {
        "id": "view-in-github",
        "colab_type": "text"
      },
      "source": [
        "<a href=\"https://colab.research.google.com/github/Farah-Abdirahman/sample-adk-agent/blob/main/ADK.ipynb\" target=\"_parent\"><img src=\"https://colab.research.google.com/assets/colab-badge.svg\" alt=\"Open In Colab\"/></a>"
      ]
    },
    {
      "cell_type": "code",
      "execution_count": null,
      "metadata": {
        "id": "tnf_xOREjRfC"
      },
      "outputs": [],
      "source": [
        "# !pip install google-adk -q\n",
        "# !pip install litellm -q"
      ]
    },
    {
      "cell_type": "code",
      "source": [
        "from google.colab import userdata\n",
        "# @title Import necessary libraries\n",
        "import os\n",
        "import asyncio\n",
        "from google.adk.agents import Agent\n",
        "from google.adk.models.lite_llm import LiteLlm # For multi-model support\n",
        "from google.adk.sessions import InMemorySessionService\n",
        "from google.adk.runners import Runner\n",
        "from google.genai import types # For creating message Content/Parts\n",
        "\n",
        "import warnings\n",
        "# Ignore all warnings\n",
        "warnings.filterwarnings(\"ignore\")\n",
        "\n",
        "import logging\n",
        "logging.basicConfig(level=logging.ERROR)\n",
        "\n",
        "print(\"Libraries imported.\")\n"
      ],
      "metadata": {
        "colab": {
          "base_uri": "https://localhost:8080/"
        },
        "id": "tT_uWQeNkwhA",
        "outputId": "b014e266-6d4f-47bd-d384-cb6b646b900c"
      },
      "execution_count": null,
      "outputs": [
        {
          "output_type": "stream",
          "name": "stdout",
          "text": [
            "Libraries imported.\n"
          ]
        }
      ]
    },
    {
      "cell_type": "code",
      "source": [
        "import os\n",
        "import google.generativeai as genai # Import the generativeai library\n",
        "from google.colab import userdata\n",
        "# Get Key from secrets\n",
        "google_api_key = userdata.get('GOOGLE_API_KEY')\n",
        "os.environ[\"GOOGLE_API_KEY\"] = google_api_key\n",
        "# print(google_api_key)\n",
        "# # Configure the generativeai library with the API key\n",
        "# genai.configure(api_key=google_api_key)\n",
        "# Configure ADK to use API keys directly (not Vertex AI for this multi-model setup)\n",
        "os.environ[\"GOOGLE_GENAI_USE_VERTEXAI\"] = \"False\"\n",
        "MODEL_GEMINI_2_0_FLASH = \"gemini-2.0-flash\"\n"
      ],
      "metadata": {
        "id": "_5X8kZ7Bp6mI"
      },
      "execution_count": null,
      "outputs": []
    },
    {
      "cell_type": "markdown",
      "source": [
        "\n",
        "#**Build Your First Intelligent Agent Team: A Progressive Kabarak Uni Bot with ADK**\n",
        "The Kabarak Campus Assistant (KCA) is a simple AI agent built using a Large Language Model (LLM) that provides helpful campus-related information for students, staff, and visitors at Kabarak University\n",
        "\n",
        "**🎯 Objective Create a basic AI agent that:**\n",
        "\n",
        "Understands user questions about Kabarak campus (e.g., weather, events, library hours).\n",
        "\n",
        "Uses a tool to retrieve specific information.\n",
        "\n",
        "Responds clearly using an LLM like Gemini Flash.\n",
        "\n",
        "**Let's Take a look**\n",
        "\n",
        "In the Agent Developer Kit (ADK), tools are Python functions that give your agent practical abilities—like retrieving data, calling APIs, or performing tasks.\n",
        "\n",
        "We’ll start with a mock campus info tool, returning sample answers without needing real APIs (easy to extend later).\n",
        "\n",
        "**NB**: **📌 Why the docstring matters:\n",
        "This helps the LLM understand:\n",
        "\n",
        "What the tool is for\n",
        "\n",
        "When to use it\n",
        "\n",
        "The input (topic: str)\n",
        "\n",
        "The structure of the response (dict with keys like status, report, etc.)**"
      ],
      "metadata": {
        "id": "T-Hl5mj41gxO"
      }
    },
    {
      "cell_type": "code",
      "source": [
        "# @title Define the get_kabarak_info Tool\n",
        "def get_kabarak_info(topic: str) -> dict:\n",
        "    \"\"\"Retrieves information about Kabarak University based on a specific topic.\n",
        "\n",
        "    Args:\n",
        "        topic (str): The topic of interest (e.g., \"weather\", \"events\", \"library\").\n",
        "\n",
        "    Returns:\n",
        "        dict: A dictionary containing campus-related information.\n",
        "              Includes a 'status' key ('success' or 'error').\n",
        "              If 'success', includes a 'report' key with relevant details.\n",
        "              If 'error', includes an 'error_message' key.\n",
        "    \"\"\"\n",
        "    print(f\"--- Tool: get_kabarak_info called for topic: {topic} ---\")  # Log tool execution\n",
        "    topic_normalized = topic.lower().replace(\" \", \"\")\n",
        "\n",
        "    # Mock data for Kabarak campus\n",
        "    kabarak_mock_db = {\n",
        "        \"weather\": {\n",
        "            \"status\": \"success\",\n",
        "            \"report\": \"The weather at Kabarak Main Campus is sunny with mild winds, around 23°C.\"\n",
        "        },\n",
        "        \"events\": {\n",
        "            \"status\": \"success\",\n",
        "            \"report\": \"Today's events: Career Fair at the Auditorium (10am–4pm), and Chapel Service at 8am.\"\n",
        "        },\n",
        "        \"library\": {\n",
        "            \"status\": \"success\",\n",
        "            \"report\": \"The university library is open from 8am to 9pm. Online resources are available via the student portal.\"\n",
        "        },\n",
        "        \"cafeteria\": {\n",
        "            \"status\": \"success\",\n",
        "            \"report\": \"The cafeteria is serving local dishes and snacks today. Lunch runs from 12:00pm to 2:00pm.\"\n",
        "        }\n",
        "    }\n",
        "\n",
        "    if topic_normalized in kabarak_mock_db:\n",
        "        return kabarak_mock_db[topic_normalized]\n",
        "    else:\n",
        "        return {\"status\": \"error\", \"error_message\": f\"Sorry, I don't have information about '{topic}'.\"}\n",
        "\n",
        "# 🔍 Example test\n",
        "print(get_kabarak_info(\"weather\"))\n",
        "print(get_kabarak_info(\"events\"))\n",
        "print(get_kabarak_info(\"cafeteria\"))\n",
        "print(get_kabarak_info(\"sports\"))\n"
      ],
      "metadata": {
        "colab": {
          "base_uri": "https://localhost:8080/"
        },
        "id": "2X3VlR8BqYSz",
        "outputId": "01419ba5-18a0-4b99-fa4d-ab47f88d70e3"
      },
      "execution_count": null,
      "outputs": [
        {
          "output_type": "stream",
          "name": "stdout",
          "text": [
            "--- Tool: get_kabarak_info called for topic: weather ---\n",
            "{'status': 'success', 'report': 'The weather at Kabarak Main Campus is sunny with mild winds, around 23°C.'}\n",
            "--- Tool: get_kabarak_info called for topic: events ---\n",
            "{'status': 'success', 'report': \"Today's events: Career Fair at the Auditorium (10am–4pm), and Chapel Service at 8am.\"}\n",
            "--- Tool: get_kabarak_info called for topic: cafeteria ---\n",
            "{'status': 'success', 'report': 'The cafeteria is serving local dishes and snacks today. Lunch runs from 12:00pm to 2:00pm.'}\n",
            "--- Tool: get_kabarak_info called for topic: sports ---\n",
            "{'status': 'error', 'error_message': \"Sorry, I don't have information about 'sports'.\"}\n"
          ]
        }
      ]
    },
    {
      "cell_type": "markdown",
      "source": [],
      "metadata": {
        "id": "ry0kpkYi1fEj"
      }
    },
    {
      "cell_type": "code",
      "source": [
        "# @title Define the Kabarak Campus Agent\n",
        "\n",
        "# Use the same or a different Gemini model as needed\n",
        "AGENT_MODEL = MODEL_GEMINI_2_0_FLASH  # or use a string if using a local version\n",
        "\n",
        "# Define the agent\n",
        "kabarak_agent = Agent(\n",
        "    name=\"kabarak_agent_v1\",\n",
        "    model=AGENT_MODEL,\n",
        "    description=\"Provides helpful information about Kabarak University.\",\n",
        "    instruction=(\n",
        "        \"You are a helpful assistant for Kabarak University students, staff, and visitors. \"\n",
        "        \"When asked about campus-related topics like weather, events, the library, or cafeteria, \"\n",
        "        \"use the 'get_kabarak_info' tool to retrieve the information. \"\n",
        "        \"If the tool returns an error, respond politely and suggest valid topics. \"\n",
        "        \"If successful, present the report in a clear and friendly tone.\"\n",
        "    ),\n",
        "    tools=[get_kabarak_info],  # Attach the campus info tool\n",
        ")\n",
        "\n",
        "print(f\"Agent '{kabarak_agent.name}' created using model '{AGENT_MODEL}'.\")\n"
      ],
      "metadata": {
        "colab": {
          "base_uri": "https://localhost:8080/"
        },
        "id": "lPIH4iXargG0",
        "outputId": "d44d0c0c-1da5-46ad-98b4-5353116738b2"
      },
      "execution_count": null,
      "outputs": [
        {
          "output_type": "stream",
          "name": "stdout",
          "text": [
            "Agent 'kabarak_agent_v1' created using model 'gemini-2.0-flash'.\n"
          ]
        }
      ]
    },
    {
      "cell_type": "code",
      "source": [
        "# @title Setup Session Service and Runner\n",
        "\n",
        "# --- Session Management ---\n",
        "# Key Concept: SessionService stores conversation history & state.\n",
        "# InMemorySessionService is simple, non-persistent storage for this tutorial.\n",
        "session_service = InMemorySessionService()\n",
        "\n",
        "# Define constants for identifying the interaction context\n",
        "APP_NAME = \"kabarak_info_agent\"\n",
        "USER_ID = \"user_1\"\n",
        "SESSION_ID = \"session_001\" # Using a fixed ID for simplicity\n",
        "\n",
        "# Create the specific session where the conversation will happen\n",
        "session = session_service.create_session(\n",
        "    app_name=APP_NAME,\n",
        "    user_id=USER_ID,\n",
        "    session_id=SESSION_ID\n",
        ")\n",
        "print(f\"Session created: App='{APP_NAME}', User='{USER_ID}', Session='{SESSION_ID}'\")\n",
        "\n",
        "# --- Runner ---\n",
        "# Key Concept: Runner orchestrates the agent execution loop.\n",
        "runner = Runner(\n",
        "    agent=kabarak_agent, # The agent we want to run\n",
        "    app_name=APP_NAME,   # Associates runs with our app\n",
        "    session_service=session_service # Uses our session manager\n",
        ")\n",
        "print(f\"Runner created for agent '{runner.agent.name}'.\")"
      ],
      "metadata": {
        "colab": {
          "base_uri": "https://localhost:8080/"
        },
        "id": "r4sMO3DUr_13",
        "outputId": "6215ff78-e4a0-42a5-f087-cb928cf4edc0"
      },
      "execution_count": null,
      "outputs": [
        {
          "output_type": "stream",
          "name": "stdout",
          "text": [
            "Session created: App='kabarak_info_agent', User='user_1', Session='session_001'\n",
            "Runner created for agent 'kabarak_agent_v1'.\n"
          ]
        }
      ]
    },
    {
      "cell_type": "code",
      "source": [
        "# @title Define Agent Interaction Function\n",
        "\n",
        "from google.genai import types # For creating message Content/Parts\n",
        "\n",
        "async def call_agent_async(query: str, runner, user_id, session_id):\n",
        "  \"\"\"Sends a query to the agent and prints the final response.\"\"\"\n",
        "  print(f\"\\n>>> User Query: {query}\")\n",
        "\n",
        "  # Prepare the user's message in ADK format\n",
        "  content = types.Content(role='user', parts=[types.Part(text=query)])\n",
        "\n",
        "  final_response_text = \"Agent did not produce a final response.\" # Default\n",
        "\n",
        "  # Key Concept: run_async executes the agent logic and yields Events.\n",
        "  # We iterate through events to find the final answer.\n",
        "  async for event in runner.run_async(user_id=user_id, session_id=session_id, new_message=content):\n",
        "      # You can uncomment the line below to see *all* events during execution\n",
        "      # print(f\"  [Event] Author: {event.author}, Type: {type(event).__name__}, Final: {event.is_final_response()}, Content: {event.content}\")\n",
        "\n",
        "      # Key Concept: is_final_response() marks the concluding message for the turn.\n",
        "      if event.is_final_response():\n",
        "          if event.content and event.content.parts:\n",
        "             # Assuming text response in the first part\n",
        "             final_response_text = event.content.parts[0].text\n",
        "          elif event.actions and event.actions.escalate: # Handle potential errors/escalations\n",
        "             final_response_text = f\"Agent escalated: {event.error_message or 'No specific message.'}\"\n",
        "          # Add more checks here if needed (e.g., specific error codes)\n",
        "          break # Stop processing events once the final response is found\n",
        "\n",
        "  print(f\"<<< Agent Response: {final_response_text}\")"
      ],
      "metadata": {
        "id": "Qzs5xtresEkO"
      },
      "execution_count": null,
      "outputs": []
    },
    {
      "cell_type": "code",
      "source": [
        "# @title Run the Initial Conversation\n",
        "\n",
        "# We need an async function to await our interaction helper\n",
        "async def run_conversation():\n",
        "    await call_agent_async(\"What is the weather like at Kabarak?\",\n",
        "                           runner=runner,\n",
        "                           user_id=USER_ID,\n",
        "                           session_id=SESSION_ID)\n",
        "\n",
        "    await call_agent_async(\"Tell me about the library hours.\",\n",
        "                           runner=runner,\n",
        "                           user_id=USER_ID,\n",
        "                           session_id=SESSION_ID)\n",
        "\n",
        "    await call_agent_async(\"Is there a football match today?\",\n",
        "                           runner=runner,\n",
        "                           user_id=USER_ID,\n",
        "                           session_id=SESSION_ID)\n",
        "\n",
        "# Execute the conversation using await in an async context (like Colab/Jupyter)\n",
        "await run_conversation()\n",
        "\n",
        "# --- OR ---\n",
        "\n",
        "# Uncomment the following lines if running as a standard Python script (.py file):\n",
        "# import asyncio\n",
        "# if __name__ == \"__main__\":\n",
        "#     try:\n",
        "#         asyncio.run(run_conversation())\n",
        "#     except Exception as e:\n",
        "#         print(f\"An error occurred: {e}\")"
      ],
      "metadata": {
        "colab": {
          "base_uri": "https://localhost:8080/"
        },
        "id": "LqiZiMhMsGKO",
        "outputId": "6f21443c-0c30-4b5e-b823-759e1a47e70b"
      },
      "execution_count": null,
      "outputs": [
        {
          "output_type": "stream",
          "name": "stdout",
          "text": [
            "\n",
            ">>> User Query: What is the weather like at Kabarak?\n"
          ]
        },
        {
          "output_type": "stream",
          "name": "stderr",
          "text": [
            "WARNING:google_genai.types:Warning: there are non-text parts in the response: ['function_call'],returning concatenated text result from text parts,check out the non text parts for full response from model.\n"
          ]
        },
        {
          "output_type": "stream",
          "name": "stdout",
          "text": [
            "--- Tool: get_kabarak_info called for topic: weather ---\n",
            "<<< Agent Response: Hello! The weather at Kabarak Main Campus is sunny with mild winds, around 23°C.\n",
            "\n",
            "\n",
            ">>> User Query: Tell me about the library hours.\n"
          ]
        },
        {
          "output_type": "stream",
          "name": "stderr",
          "text": [
            "WARNING:google_genai.types:Warning: there are non-text parts in the response: ['function_call'],returning concatenated text result from text parts,check out the non text parts for full response from model.\n"
          ]
        },
        {
          "output_type": "stream",
          "name": "stdout",
          "text": [
            "--- Tool: get_kabarak_info called for topic: library ---\n",
            "<<< Agent Response: The university library is open from 8am to 9pm. Online resources are available via the student portal.\n",
            "\n",
            "\n",
            ">>> User Query: Is there a football match today?\n"
          ]
        },
        {
          "output_type": "stream",
          "name": "stderr",
          "text": [
            "WARNING:google_genai.types:Warning: there are non-text parts in the response: ['function_call'],returning concatenated text result from text parts,check out the non text parts for full response from model.\n"
          ]
        },
        {
          "output_type": "stream",
          "name": "stdout",
          "text": [
            "--- Tool: get_kabarak_info called for topic: events ---\n",
            "<<< Agent Response: Today's events include a Career Fair at the Auditorium (10am–4pm), and Chapel Service at 8am. There is no mention of a football match.\n",
            "\n"
          ]
        }
      ]
    },
    {
      "cell_type": "markdown",
      "source": [
        "# Building an Agent Team – Delegation for Greetings, Farewells & Campus Info\n",
        "In Steps 1 and 2, we created a single-purpose agent for Kabarak University that provided weather and campus-related information.\n",
        "\n",
        "But real users might also say things like:\n",
        "\n",
        "“Hi there!”\n",
        "\n",
        "“Thanks, goodbye!”\n",
        "\n",
        "“What's the weather like today?”\n",
        "\n",
        "Instead of crowding one agent with everything, let’s make a smarter, modular agent team."
      ],
      "metadata": {
        "id": "KjIE0y5G40if"
      }
    },
    {
      "cell_type": "markdown",
      "source": [
        "**Define the Tools**\n"
      ],
      "metadata": {
        "id": "QCqac1sF5a4x"
      }
    },
    {
      "cell_type": "code",
      "source": [
        "def say_hello() -> dict:\n",
        "    \"\"\"Responds to user greetings.\"\"\"\n",
        "    return {\"status\": \"success\", \"message\": \"Hello! Welcome to Kabarak University Assistant. How can I help you today?\"}\n",
        "\n",
        "def say_goodbye() -> dict:\n",
        "    \"\"\"Responds to user farewells.\"\"\"\n",
        "    return {\"status\": \"success\", \"message\": \"Goodbye! Have a great day at Kabarak University.\"}\n"
      ],
      "metadata": {
        "id": "E7cI365g5VYC"
      },
      "execution_count": null,
      "outputs": []
    },
    {
      "cell_type": "code",
      "source": [
        "greeting_agent = Agent(\n",
        "    name=\"greeting_agent\",\n",
        "    model=MODEL_GEMINI_2_0_FLASH,  # Lightweight model is fine\n",
        "    description=\"Handles user greetings.\",\n",
        "    instruction=\"Respond warmly to any greetings like 'hello', 'hi', or 'good morning'. Use the 'say_hello' tool.\",\n",
        "    tools=[say_hello]\n",
        ")\n"
      ],
      "metadata": {
        "id": "zaujaEvn5j7w"
      },
      "execution_count": null,
      "outputs": []
    },
    {
      "cell_type": "code",
      "source": [
        "farewell_agent = Agent(\n",
        "    name=\"farewell_agent\",\n",
        "    model=MODEL_GEMINI_2_0_FLASH,\n",
        "    description=\"Handles user goodbyes and sign-offs.\",\n",
        "    instruction=\"Respond politely to farewells like 'bye', 'see you later', or 'goodnight'. Use the 'say_goodbye' tool.\",\n",
        "    tools=[say_goodbye]\n",
        ")\n"
      ],
      "metadata": {
        "id": "yiVQgMc85r6m"
      },
      "execution_count": null,
      "outputs": []
    },
    {
      "cell_type": "markdown",
      "source": [
        "**Update the Kabarak Agent to Act as the Root Agent**"
      ],
      "metadata": {
        "id": "CGVd12Jc57_V"
      }
    },
    {
      "cell_type": "code",
      "source": [
        "# @title Define Greeting and Farewell Sub-Agents\n",
        "\n",
        "# --- Greeting Agent ---\n",
        "greeting_agent = None\n",
        "try:\n",
        "    greeting_agent = Agent(\n",
        "        model = MODEL_GEMINI_2_0_FLASH,\n",
        "        name=\"greeting_agent\",\n",
        "        instruction=\"You are the Greeting Agent. Your ONLY task is to provide a friendly greeting to the user. \"\n",
        "                    \"Use the 'say_hello' tool to generate the greeting. \"\n",
        "                    \"If the user provides their name, make sure to pass it to the tool. \"\n",
        "                    \"Do not engage in any other conversation or tasks.\",\n",
        "        description=\"Handles simple greetings and hellos using the 'say_hello' tool.\",\n",
        "        tools=[say_hello],\n",
        "    )\n",
        "    print(f\"✅ Agent '{greeting_agent.name}' created using model '{greeting_agent.model}'.\")\n",
        "except Exception as e:\n",
        "    print(f\"❌ Could not create Greeting agent. Check API Key ({greeting_agent.model}). Error: {e}\")\n",
        "\n",
        "# --- Farewell Agent ---\n",
        "farewell_agent = None\n",
        "try:\n",
        "    farewell_agent = Agent(\n",
        "        model = MODEL_GEMINI_2_0_FLASH,\n",
        "        name=\"farewell_agent\",\n",
        "        instruction=\"You are the Farewell Agent. Your ONLY task is to provide a polite goodbye message. \"\n",
        "                    \"Use the 'say_goodbye' tool when the user indicates they are leaving or ending the conversation \"\n",
        "                    \"(e.g., using words like 'bye', 'goodbye', 'thanks bye', 'see you'). \"\n",
        "                    \"Do not perform any other actions.\",\n",
        "        description=\"Handles simple farewells and goodbyes using the 'say_goodbye' tool.\",\n",
        "        tools=[say_goodbye],\n",
        "    )\n",
        "    print(f\"✅ Agent '{farewell_agent.name}' created using model '{farewell_agent.model}'.\")\n",
        "except Exception as e:\n",
        "    print(f\"❌ Could not create Farewell agent. Check API Key ({farewell_agent.model}). Error: {e}\")\n"
      ],
      "metadata": {
        "colab": {
          "base_uri": "https://localhost:8080/"
        },
        "id": "Zeen1iF75-Xu",
        "outputId": "31b819e1-fff7-45ca-9564-5374738bfc79"
      },
      "execution_count": null,
      "outputs": [
        {
          "output_type": "stream",
          "name": "stdout",
          "text": [
            "✅ Agent 'greeting_agent' created using model 'gemini-2.0-flash'.\n",
            "✅ Agent 'farewell_agent' created using model 'gemini-2.0-flash'.\n"
          ]
        }
      ]
    },
    {
      "cell_type": "markdown",
      "source": [
        "t"
      ],
      "metadata": {
        "id": "GrCtNNHD68wT"
      }
    },
    {
      "cell_type": "code",
      "source": [
        "# @title Define the Root Agent with Sub-Agents (Kabarak Agent Team)\n",
        "\n",
        "root_agent = None\n",
        "runner_root = None  # Initialize runner variable\n",
        "\n",
        "# Ensure all sub-agents and the Kabarak info tool are ready\n",
        "if greeting_agent and farewell_agent and 'get_kabarak_info' in globals():\n",
        "\n",
        "    # Use a strong yet cost-effective model for coordination\n",
        "    root_agent_model = MODEL_GEMINI_2_0_FLASH\n",
        "\n",
        "    kabarak_agent_team = Agent(\n",
        "        name=\"kabarak_agent_v2\",\n",
        "        model=root_agent_model,\n",
        "        description=(\n",
        "            \"The main coordinator agent for Kabarak University information. \"\n",
        "            \"Answers university-specific questions and delegates greetings/farewells.\"\n",
        "        ),\n",
        "        instruction=(\n",
        "            \"You are the Kabarak University Info Agent coordinating a team. Your primary responsibility is to provide accurate information about Kabarak University. \"\n",
        "            \"Use the 'get_kabarak_info' tool ONLY for queries related to university details (e.g., courses, campus facilities, admissions, contact info). \"\n",
        "            \"You have specialized sub-agents: \"\n",
        "            \"1. 'greeting_agent': Handles greetings like 'Hello', 'Hi'. Delegate to it for these. \"\n",
        "            \"2. 'farewell_agent': Handles farewells like 'Bye', 'See you'. Delegate to it for these. \"\n",
        "            \"Analyze the user's input. If it's a greeting, delegate to 'greeting_agent'. If it's a farewell, delegate to 'farewell_agent'. \"\n",
        "            \"If it's a Kabarak-specific question, respond using 'get_kabarak_info'. \"\n",
        "            \"For unrelated queries, respond politely that you can only provide Kabarak-related info.\"\n",
        "        ),\n",
        "        tools=[get_kabarak_info],  # Core tool for Kabarak info\n",
        "        sub_agents=[greeting_agent, farewell_agent]  # Link greeting and farewell specialists\n",
        "    )\n",
        "\n",
        "    print(f\"✅ Root Agent '{kabarak_agent_team.name}' created using model '{root_agent_model}' with sub-agents: {[sa.name for sa in kabarak_agent_team.sub_agents]}\")\n",
        "\n",
        "else:\n",
        "    print(\"❌ Cannot create root agent because one or more sub-agents failed or 'get_kabarak_info' tool is missing.\")\n",
        "    if not greeting_agent: print(\" - Greeting Agent is missing.\")\n",
        "    if not farewell_agent: print(\" - Farewell Agent is missing.\")\n",
        "    if 'get_kabarak_info' not in globals(): print(\" - get_kabarak_info function is missing.\")\n"
      ],
      "metadata": {
        "colab": {
          "base_uri": "https://localhost:8080/"
        },
        "id": "HQoH23Ma69oE",
        "outputId": "3c547b0b-80e9-4dcd-95e7-ee6edf628402"
      },
      "execution_count": null,
      "outputs": [
        {
          "output_type": "stream",
          "name": "stdout",
          "text": [
            "✅ Root Agent 'kabarak_agent_v2' created using model 'gemini-2.0-flash' with sub-agents: ['greeting_agent', 'farewell_agent']\n"
          ]
        }
      ]
    },
    {
      "cell_type": "code",
      "source": [
        "# @title Interact with the Agent Team (Kabarak University Version)\n",
        "import asyncio  # Ensure asyncio is imported\n",
        "\n",
        "# Determine which root agent variable is defined\n",
        "root_agent_var_name = 'root_agent'  # Default name from earlier steps\n",
        "\n",
        "if 'kabarak_agent_team' in globals():  # Check for your Kabarak agent team name\n",
        "    root_agent_var_name = 'kabarak_agent_team'\n",
        "elif 'root_agent' not in globals():\n",
        "    print(\"⚠️ Root agent ('root_agent' or 'kabarak_agent_team') not found. Cannot define run_team_conversation.\")\n",
        "    root_agent = None  # Prevent NameError if used later\n",
        "\n",
        "# Only define and run conversation if root agent exists\n",
        "if root_agent_var_name in globals() and globals()[root_agent_var_name]:\n",
        "    async def run_team_conversation():\n",
        "        print(\"\\n--- Testing Kabarak Agent Team Delegation ---\")\n",
        "        session_service = InMemorySessionService()\n",
        "        APP_NAME = \"kabarak_agent_team_app\"\n",
        "        USER_ID = \"user_1_kabarak_team\"\n",
        "        SESSION_ID = \"session_001_kabarak_team\"\n",
        "\n",
        "        session = session_service.create_session(\n",
        "            app_name=APP_NAME, user_id=USER_ID, session_id=SESSION_ID\n",
        "        )\n",
        "        print(f\"Session created: App='{APP_NAME}', User='{USER_ID}', Session='{SESSION_ID}'\")\n",
        "\n",
        "        actual_root_agent = globals()[root_agent_var_name]\n",
        "        runner_agent_team = Runner(  # Or use InMemoryRunner if preferred\n",
        "            agent=actual_root_agent,\n",
        "            app_name=APP_NAME,\n",
        "            session_service=session_service\n",
        "        )\n",
        "        print(f\"Runner created for agent '{actual_root_agent.name}'.\")\n",
        "\n",
        "        # Test greeting delegation\n",
        "        await call_agent_async(\n",
        "            query=\"Hello Kabarak!\",\n",
        "            runner=runner_agent_team,\n",
        "            user_id=USER_ID,\n",
        "            session_id=SESSION_ID\n",
        "        )\n",
        "        # Test Kabarak info request delegation (replace with relevant query)\n",
        "        await call_agent_async(\n",
        "            query=\"Tell me about the library hours?\",\n",
        "            runner=runner_agent_team,\n",
        "            user_id=USER_ID,\n",
        "            session_id=SESSION_ID\n",
        "        )\n",
        "        # Test farewell delegation\n",
        "        await call_agent_async(\n",
        "            query=\"Thanks, goodbye!\",\n",
        "            runner=runner_agent_team,\n",
        "            user_id=USER_ID,\n",
        "            session_id=SESSION_ID\n",
        "        )\n",
        "\n",
        "    # Execute the async conversation runner\n",
        "    print(\"Attempting execution using 'await' (default for notebooks)...\")\n",
        "    await run_team_conversation()\n",
        "\n",
        "    # If you are running this as a standard Python script (.py),\n",
        "    # comment out the above line and uncomment below:\n",
        "\n",
        "    \"\"\"\n",
        "    import asyncio\n",
        "    if __name__ == \"__main__\":\n",
        "        print(\"Executing using 'asyncio.run()' for standard Python script...\")\n",
        "        try:\n",
        "            asyncio.run(run_team_conversation())\n",
        "        except Exception as e:\n",
        "            print(f\"Error during async execution: {e}\")\n",
        "    \"\"\"\n",
        "else:\n",
        "    print(\"\\n⚠️ Skipping Kabarak agent team conversation execution because the root agent was not found.\")\n"
      ],
      "metadata": {
        "colab": {
          "base_uri": "https://localhost:8080/"
        },
        "id": "DP4AVz_n7l43",
        "outputId": "09d8974a-dfce-453f-8d52-f0b8b1703616"
      },
      "execution_count": null,
      "outputs": [
        {
          "output_type": "stream",
          "name": "stdout",
          "text": [
            "Attempting execution using 'await' (default for notebooks)...\n",
            "\n",
            "--- Testing Kabarak Agent Team Delegation ---\n",
            "Session created: App='kabarak_agent_team_app', User='user_1_kabarak_team', Session='session_001_kabarak_team'\n",
            "Runner created for agent 'kabarak_agent_v2'.\n",
            "\n",
            ">>> User Query: Hello Kabarak!\n"
          ]
        },
        {
          "output_type": "stream",
          "name": "stderr",
          "text": [
            "WARNING:google_genai.types:Warning: there are non-text parts in the response: ['function_call'],returning concatenated text result from text parts,check out the non text parts for full response from model.\n",
            "WARNING:google_genai.types:Warning: there are non-text parts in the response: ['function_call'],returning concatenated text result from text parts,check out the non text parts for full response from model.\n"
          ]
        },
        {
          "output_type": "stream",
          "name": "stdout",
          "text": [
            "<<< Agent Response: Hello! Welcome to Kabarak University Assistant. How can I help you today?\n",
            "\n",
            "\n",
            ">>> User Query: Tell me about the library hours?\n"
          ]
        },
        {
          "output_type": "stream",
          "name": "stderr",
          "text": [
            "WARNING:google_genai.types:Warning: there are non-text parts in the response: ['function_call'],returning concatenated text result from text parts,check out the non text parts for full response from model.\n",
            "WARNING:google_genai.types:Warning: there are non-text parts in the response: ['function_call'],returning concatenated text result from text parts,check out the non text parts for full response from model.\n"
          ]
        },
        {
          "output_type": "stream",
          "name": "stdout",
          "text": [
            "--- Tool: get_kabarak_info called for topic: library ---\n",
            "<<< Agent Response: The university library is open from 8am to 9pm. Online resources are available via the student portal.\n",
            "\n",
            "\n",
            ">>> User Query: Thanks, goodbye!\n"
          ]
        },
        {
          "output_type": "stream",
          "name": "stderr",
          "text": [
            "WARNING:google_genai.types:Warning: there are non-text parts in the response: ['function_call'],returning concatenated text result from text parts,check out the non text parts for full response from model.\n",
            "WARNING:google_genai.types:Warning: there are non-text parts in the response: ['function_call'],returning concatenated text result from text parts,check out the non text parts for full response from model.\n"
          ]
        },
        {
          "output_type": "stream",
          "name": "stdout",
          "text": [
            "<<< Agent Response: Goodbye! Have a great day at Kabarak University.\n",
            "\n"
          ]
        }
      ]
    }
  ]
}